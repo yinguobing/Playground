{
 "cells": [
  {
   "cell_type": "markdown",
   "metadata": {},
   "source": [
    "# MNIST·从零到一"
   ]
  },
  {
   "source": [
    "MINIST是一个由人类手写数字构成的图像数据集。它的作者为Yann LeCun、Corinna Cortes与Christopher J.C. Burges。该数据集曾被用作分类算法的开发与评估。给定任一张图像，给出该图像对应的数字。这个任务经常被用在深度学习的入门教程中。它足够简单————包含10个类别的图像分类问题；同时又足够复杂————人类手写的数字可以非常潦草、难以辨识。\n",
    "\n",
    "这篇教程同样以MNIST为实验内容载体。不过与其它教程不同的地方在于，我们将真正意义上从零开始，一步一步实现一个功能完善的深度学习项目。在这个过程中你将会逐步学会如下内容。\n",
    "\n",
    "## 数据搜集与处理\n",
    "\n",
    "大多数深度学习教程提供了打包好的数据集，可以实现一行代码直接调用。这种情况在实际中几乎是不可能的。有时候用于训练的数据处理工作量甚至会超过你构建模型所花费的精力。\n",
    "\n",
    "在这个项目中，你需要自行下载MNIST数据文件，并自行编写代码实现文件读取与解析。\n",
    "\n",
    "## 模型构建\n",
    "\n",
    "MNIST任务相对简单，因此你不需要构建超级复杂的神经网络。在这个项目中你需要使用Keras API以两种不同的方式来构建一个深度神经网络模型。\n",
    "\n",
    "## 模型训练\n",
    "\n",
    "模型训练是深度神经网络成长不可获取的过程。本项目中你将会学到模型训练过程中的几个重要参数。\n",
    "\n",
    "## 模型评估\n",
    "\n",
    "模型评估的意义在于反映当前模型的真实水平。训练与评估是深度学习工作的一对孪生兄弟，形影不离。\n",
    "\n",
    "## 模型保存\n",
    "\n",
    "训练好的模型只是存活在你的内存中。你将学会如何保存自己的劳动成果，以便今后再利用。"
   ],
   "cell_type": "markdown",
   "metadata": {}
  }
 ],
 "metadata": {
  "kernelspec": {
   "name": "python3",
   "display_name": "Python 3.8.5 64-bit",
   "metadata": {
    "interpreter": {
     "hash": "31f2aee4e71d21fbe5cf8b01ff0e069b9275f58929596ceb00d14d90e3e16cd6"
    }
   }
  },
  "language_info": {
   "codemirror_mode": {
    "name": "ipython",
    "version": 3
   },
   "file_extension": ".py",
   "mimetype": "text/x-python",
   "name": "python",
   "nbconvert_exporter": "python",
   "pygments_lexer": "ipython3",
   "version": "3.8.5-final"
  }
 },
 "nbformat": 4,
 "nbformat_minor": 4
}