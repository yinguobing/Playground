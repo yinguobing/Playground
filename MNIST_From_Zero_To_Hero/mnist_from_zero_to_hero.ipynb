{
 "cells": [
  {
   "cell_type": "markdown",
   "metadata": {},
   "source": [
    "# MNIST·从零到一"
   ]
  },
  {
   "cell_type": "markdown",
   "metadata": {},
   "source": [
    "MINIST是一个由人类手写数字构成的图像数据集。它的作者为Yann LeCun、Corinna Cortes与Christopher J.C. Burges。该数据集曾被用作分类算法的开发与评估。给定任一张图像，给出该图像对应的数字。这个任务经常被用在深度学习的入门教程中。它足够简单——包含10个类别的图像分类问题；同时又足够复杂——人类手写的数字可以非常潦草、难以辨识。\n",
    "\n",
    "这篇教程同样以MNIST为实验内容载体。不过与其它教程不同的地方在于，我们将真正意义上从零开始，一步一步实现一个功能完善的深度学习项目。\n",
    "\n",
    "在这个过程中你将会逐步掌握以下内容。\n",
    "\n",
    "## 数据搜集与处理\n",
    "\n",
    "大多数深度学习教程提供了打包好的数据集，可以实现一行代码直接调用。这种情况在现实中几乎是不可能的。有时候用于训练的数据处理工作量甚至会超过你构建模型所花费的精力。\n",
    "\n",
    "在这个项目中，你需要自行下载MNIST数据文件，并自行编写代码实现文件读取与解析。\n",
    "\n",
    "## 模型构建\n",
    "\n",
    "MNIST任务相对简单，因此你不需要构建超级复杂的神经网络。在这个项目中你需要使用Keras API以两种不同的方式来构建一个深度神经网络模型。\n",
    "\n",
    "## 模型训练\n",
    "\n",
    "模型训练是深度神经网络成长不可获取的过程。本项目中你将会学到模型训练过程中的几个重要参数。\n",
    "\n",
    "## 模型评估\n",
    "\n",
    "模型评估的意义在于反映当前模型的真实水平。训练与评估是深度学习工作的一对孪生兄弟，形影不离。\n",
    "\n",
    "## 模型保存\n",
    "\n",
    "训练好的模型只是存活在你的内存中。你将学会如何保存自己的劳动成果，以便今后再利用。"
   ]
  },
  {
   "cell_type": "markdown",
   "metadata": {},
   "source": [
    "准备好了吗？让我们开始吧！"
   ]
  },
  {
   "cell_type": "markdown",
   "metadata": {},
   "source": [
    "## 认识Alex\n",
    "首先介绍助教Alex，他将会伴随你的整个学习过程。"
   ]
  },
  {
   "cell_type": "code",
   "execution_count": 1,
   "metadata": {},
   "outputs": [
    {
     "name": "stdout",
     "output_type": "stream",
     "text": [
      "Hi, I'm Alex. Good to see you!\n"
     ]
    }
   ],
   "source": [
    "from tutor import Tutor\n",
    "alex = Tutor(\"Alex\")"
   ]
  },
  {
   "cell_type": "markdown",
   "metadata": {},
   "source": [
    "## 解析MNIST\n",
    "\n",
    "在这个章节，你需要独立完成MNIST数据集下载与文件读取功能。通常这是深度学习项目的第一步。\n",
    "\n",
    "MNIST是一个公开数据集。你可以通过搜索引擎找到它的网址。请将你找到的网址填写在下方。\n"
   ]
  },
  {
   "cell_type": "code",
   "execution_count": 2,
   "metadata": {},
   "outputs": [],
   "source": [
    "mnist_url = \"\""
   ]
  },
  {
   "cell_type": "markdown",
   "metadata": {},
   "source": [
    "### 下载文件\n",
    "请将数据集文件放置在 `download` 目录下。如果文件是压缩文件，请提前将其解压缩。完成后请在下方代码块中填写对应的文件路径。"
   ]
  },
  {
   "cell_type": "code",
   "execution_count": 3,
   "metadata": {},
   "outputs": [],
   "source": [
    "training_image_file = \"download/train-images-idx3-ubyte\"\n",
    "training_label_file = \"download/train-labels-idx1-ubyte\"\n",
    "test_image_file = \"download/t10k-images-idx3-ubyte\"\n",
    "test_label_file = \"download/t10k-labels-idx1-ubyte\""
   ]
  },
  {
   "cell_type": "markdown",
   "metadata": {},
   "source": [
    "Alex将会诸葛检查你下载的文件是否完整。"
   ]
  },
  {
   "cell_type": "code",
   "execution_count": 4,
   "metadata": {},
   "outputs": [
    {
     "name": "stdout",
     "output_type": "stream",
     "text": [
      "\u001b[34m[Alex]\u001b[0m 训练用图像数据集文件OK!\n",
      "\u001b[34m[Alex]\u001b[0m 训练用标签数据集文件OK!\n",
      "\u001b[34m[Alex]\u001b[0m 测试用图像数据集文件OK!\n",
      "\u001b[34m[Alex]\u001b[0m 测试用标签数据集文件OK!\n"
     ]
    }
   ],
   "source": [
    "alex.check_files(training_image_file, training_label_file, test_image_file, test_label_file)\n"
   ]
  },
  {
   "cell_type": "markdown",
   "metadata": {},
   "source": [
    "怎么样，你下载的文件是否全部合格？\n",
    "\n",
    "虽然现代互联网环境已经非常成熟，很少有下载文件损坏的状况出现，但是初学者入门安全第一。另外请养成从官方渠道获取原始数据的习惯。你将会在今后的工作中受益于此。"
   ]
  },
  {
   "cell_type": "markdown",
   "metadata": {},
   "source": [
    "### 读取文件\n",
    "\n",
    "使用Python读取文件是一项基础技能。神经网络的训练文件几乎全部以文件的形式存储在磁盘中，训练前的一项重要工作就是将它们读入内存，有时还需要做数据预处理与增强。不要担心，你将会在今后的项目中遇到这部分内容。今天我们先从简单的文件读取入手。\n",
    "\n",
    "下面这段代码演示了如何从一个文本文件中读取文本内容。该文本文件仅包含3个数字，一行一个。"
   ]
  },
  {
   "cell_type": "code",
   "execution_count": 5,
   "metadata": {},
   "outputs": [
    {
     "name": "stdout",
     "output_type": "stream",
     "text": [
      "1\n",
      "\n",
      "2\n",
      "\n",
      "3\n"
     ]
    }
   ],
   "source": [
    "with open('text.txt', 'rt') as f:\n",
    "    print(f.readline())\n",
    "    print(f.readline())\n",
    "    print(f.readline())"
   ]
  },
  {
   "cell_type": "markdown",
   "metadata": {},
   "source": [
    "现在该你了。请注意，MNIST数据文件并非文本文件。你需要在它的官方文档中找到它的数据格式定义，并量身定制数据读取方法。请将你的方法实现代码填充在下方的函数中。函数的输入与输出变量已经写在 `docstring` 中。\n",
    "\n",
    "> 线索：open"
   ]
  },
  {
   "cell_type": "markdown",
   "metadata": {},
   "source": [
    "首先是用于读取图像的函数。"
   ]
  },
  {
   "cell_type": "code",
   "execution_count": 6,
   "metadata": {},
   "outputs": [],
   "source": [
    "def read_mnist_pixels(pixel_file):\n",
    "    \"\"\"读取MNIST数据文件中的图像像素信息。\n",
    "    \n",
    "    Args:\n",
    "        pixel_file: 存储图像的数据集文件路径\n",
    "        \n",
    "    Returns:\n",
    "        magic_number: magic_number\n",
    "        num_images: 样本数量\n",
    "        num_rows: 图像高度\n",
    "        num_cols: 图像宽度\n",
    "        pixels: 一个包含全部像素值的list\n",
    "    \"\"\"\n",
    "    f = open(pixel_file, 'rb')\n",
    "\n",
    "    magic_number = int.from_bytes(f.read(4), byteorder='big')\n",
    "    num_images = int.from_bytes(f.read(4), byteorder='big')\n",
    "    num_rows = int.from_bytes(f.read(4), byteorder='big')\n",
    "    num_cols = int.from_bytes(f.read(4), byteorder='big')\n",
    "\n",
    "    pixels = []\n",
    "    for _ in range(num_images * num_rows * num_cols):\n",
    "        pixels.append(int.from_bytes(f.read(1), byteorder='big'))\n",
    "\n",
    "    f.close()\n",
    "\n",
    "    return magic_number, num_images, num_rows, num_cols, pixels"
   ]
  },
  {
   "cell_type": "markdown",
   "metadata": {},
   "source": [
    "其次是用于读取标签的函数。"
   ]
  },
  {
   "cell_type": "code",
   "execution_count": 7,
   "metadata": {},
   "outputs": [],
   "source": [
    "def read_mnist_labels(label_file):\n",
    "    \"\"\"读取MNIST数据集文件中的标签信息。\n",
    "\n",
    "    Args:\n",
    "        label_file: 存储标签的数据集文件路径\n",
    "\n",
    "    Returns:\n",
    "        magic_number: magic_number\n",
    "        num_items: 标签数量\n",
    "        labels: 一个包含全部标签的list\n",
    "    \"\"\"\n",
    "    f = open(label_file, 'rb')\n",
    "\n",
    "    magic_number = int.from_bytes(f.read(4), byteorder='big')\n",
    "    num_items = int.from_bytes(f.read(4), byteorder='big')\n",
    "\n",
    "    labels = []\n",
    "    for _ in range(num_items):\n",
    "        labels.append(int.from_bytes(f.read(1), byteorder='big'))\n",
    "        \n",
    "    f.close()\n",
    "\n",
    "    return magic_number, num_items, labels"
   ]
  },
  {
   "cell_type": "markdown",
   "metadata": {},
   "source": [
    "Alex将会检查该函数的完成状况。"
   ]
  },
  {
   "cell_type": "code",
   "execution_count": 8,
   "metadata": {},
   "outputs": [
    {
     "name": "stdout",
     "output_type": "stream",
     "text": [
      "\u001b[34m[Alex]\u001b[0m 正在检查图像数据集读取函数..\n",
      "\u001b[34m[Alex]\u001b[0m 图像数据集读取方法OK！\n",
      "\u001b[34m[Alex]\u001b[0m 正在检查标签数据集读取函数..\n",
      "\u001b[34m[Alex]\u001b[0m 标签数据集读取方法OK！\n"
     ]
    }
   ],
   "source": [
    "alex.check_reading_functions(read_mnist_pixels, read_mnist_labels)"
   ]
  },
  {
   "cell_type": "markdown",
   "metadata": {},
   "source": [
    "怎么样，两个函数都满足要求了吗？你是否在 `open()` 函数的官方文档中找到了解决问题的线索？希望你不是从GitHub或者StackOverflow上复制粘贴的代码。请一定养成查阅官方文档的习惯。后期在构建神经网络时，你需要经常性地查询TensorFlow API的使用方法。"
   ]
  },
  {
   "cell_type": "markdown",
   "metadata": {},
   "source": [
    "恭喜你！这两个函数实现之后，你已经成功实现了MNIST数据集的读取。这些数据将会用在神经网络的训练与测试中。不过在继续下一步之前，这里有几个非常重要的问题需要你回答。\n",
    "\n",
    "1. 手写数字图像的数据结构是什么样子？\n",
    "2. 与图像对应的标签的数据结构是什么样子？\n",
    "3. 这些数据的数值类型是什么？\n",
    "4. 这些数据的取值范围的上下界是什么？\n",
    "\n",
    "请不要小看这些问题。深度学习项目的数据有时会极大的影响到模型的最终表现，请务必熟悉每个项目中你要处理的数据格式与内容。"
   ]
  },
  {
   "cell_type": "markdown",
   "metadata": {},
   "source": [
    "## 构建神经网络模型\n",
    "\n",
    "在这个章节中，你将使用TensorFlow构建一个深度神经网络模型来实现MNIST手写数字的识别。\n",
    "\n",
    "构建神经网络的过程可能比你想的要简单。对于大部分任务来说，你都能找到范畴相近的深度学习模型作为参考,你可以站在前人的肩膀上继续工作。成熟的深度学习框架提供了足够灵活的模型构建方式，简化了这部分任务。例如TensorFlow的高阶API Keras就提供了大量用于构建神经网络以及训练的方法，可以极大的减轻工作量。\n",
    "\n",
    "针对模型构建，Keras提供了 `Sequential API`、`Functional API` 与 `Subclassed model` 三种方式。这三种方式各有所长。作为初学者，本项目中你需要使用 `Functional API` 的方式构建深度神经网络。\n",
    "\n",
    "### 使用Sequential API构建模型\n",
    "\n",
    "在开始之前，先来看看一个采用 `Sequential API` 构建神经网络模型的例子。\n",
    "\n",
    "![mnist](docs/mnist.png)\n",
    "\n",
    "这是一个三层神经网络：一个输入层，一个隐含层，一个输出层。输入层的单元数为2，隐含层为4，输出层为3。这三层之间以稠密的方式顺序连接在一起。在TensorFlow中，你可以使用Keras高阶API的 `Dense` 方法来构建神经网络的稠密连接层，然后使用 `Sequential` 方法将它们串联在一起。这个模型与你之前在视频中看到的神经网络没有本质上的不同。"
   ]
  },
  {
   "cell_type": "code",
   "execution_count": 9,
   "metadata": {},
   "outputs": [],
   "source": [
    "import tensorflow as tf\n",
    "\n",
    "sequential_model = tf.keras.Sequential(\n",
    "    [\n",
    "        tf.keras.layers.Dense(2, input_shape=(2,), name='inputs'),\n",
    "        tf.keras.layers.Dense(4, activation='relu', name='hidden'),\n",
    "        tf.keras.layers.Dense(3, name='outputs')\n",
    "    ]\n",
    ")"
   ]
  },
  {
   "cell_type": "markdown",
   "metadata": {},
   "source": [
    "让我们把模型的概况打印出来看下。"
   ]
  },
  {
   "cell_type": "code",
   "execution_count": 10,
   "metadata": {},
   "outputs": [
    {
     "name": "stdout",
     "output_type": "stream",
     "text": [
      "Model: \"sequential\"\n",
      "_________________________________________________________________\n",
      "Layer (type)                 Output Shape              Param #   \n",
      "=================================================================\n",
      "inputs (Dense)               (None, 2)                 6         \n",
      "_________________________________________________________________\n",
      "hidden (Dense)               (None, 4)                 12        \n",
      "_________________________________________________________________\n",
      "outputs (Dense)              (None, 3)                 15        \n",
      "=================================================================\n",
      "Total params: 33\n",
      "Trainable params: 33\n",
      "Non-trainable params: 0\n",
      "_________________________________________________________________\n"
     ]
    }
   ],
   "source": [
    "sequential_model.summary()"
   ]
  },
  {
   "cell_type": "markdown",
   "metadata": {},
   "source": [
    "此时变量 `model` 保存的正是我们通常意义上所讲的“模型”。该模型现在一共包含三层，33个可训练参数。\n",
    "\n",
    "使用 `Sequential API` 构建这种顺序堆叠layer的网络非常方便。大部分时间你只需要按图索骥，将正确的layer按顺序放在一个list中即可。这也是使用TensorFlow构建神经网络模型的主要工作内容：正确选择API，根据网络架构赋予它们正确的参数，最后组装在一起。\n",
    "\n",
    "在这个过程中，你需要大量地查阅TensorFlow API文档。为防止你忘记，这里再次提醒一下：请从官方文档查阅API，并确定该API版本与你正在使用的TensorFlow版本相同。TensorFlow官方文档地址：https://www.tensorflow.org/api/stable"
   ]
  },
  {
   "cell_type": "markdown",
   "metadata": {},
   "source": [
    "### 采用Functional API构建模型\n",
    "\n",
    "在今后的深度学习项目中，你迟早会遇到 `Sequential API` 无法满足需求的状况。例如具备非线性拓扑结构、存在共享层或者多输入多输出的模型。这种情况下你需要使用 `Functional API`。不要担心，使用该方式构建模型与使用 `Sequential API` 构建模型过程非常相似。\n",
    "\n",
    "动手时间到！请阅读官方关于 `Functional API` 的指南(Guide)，并构建具备如下结构的神经网络。\n",
    "\n",
    "该模型按顺序包含：一个输入层，一个稠密连接层，一个 `Dropout` 层，一个输出层。其中稠密连接层的单元个数为 `128`，使用'`relu` 激活函数。Dropout的比例为 `0.2`。\n",
    "\n",
    "模型的输入层将会使用一个图像样本的全部像素值，即28*28个像素。输出层的单元个数需要你来决定。请仔细想想你在上个章节构建的数据读取函数，它们获得的数据结构与类型是什么样子。\n",
    "\n",
    "这对于你来说可能是一项有挑战的任务，毕竟需要自行查阅文档、仔细思考、书写代码。但是请记住“看过不等于会做”。亲自动手实践是人类掌握知识技能的必经阶段，请不要忘记你的目标。如果实在遇到无法解决的困难请向我求助。\n",
    "\n",
    "那么，请完善下方的 `build_model` 方法，使用 `Functional API` 构建模型吧！\n",
    "\n",
    "> 线索: https://www.tensorflow.org/guide"
   ]
  },
  {
   "cell_type": "code",
   "execution_count": 11,
   "metadata": {},
   "outputs": [],
   "source": [
    "def build_model(units=128, rate=0.2):\n",
    "    \"\"\"使用Functional API构建神经网络。\n",
    "    \n",
    "    Args:\n",
    "        units: 隐含层的节点个数\n",
    "        rate: dropout的比例\n",
    "    \n",
    "    Returns:\n",
    "        model: 构建好的keras模型\n",
    "    \"\"\"\n",
    "    inputs = tf.keras.Input((28*28,))\n",
    "    x = tf.keras.layers.Dense(units, activation='relu')(inputs)\n",
    "    x = tf.keras.layers.Dropout(rate)(x)\n",
    "    outputs = tf.keras.layers.Dense(10)(x)\n",
    "\n",
    "    return tf.keras.Model(inputs, outputs)\n",
    "\n"
   ]
  },
  {
   "cell_type": "markdown",
   "metadata": {},
   "source": [
    "照例，Alex将会对构建模型的函数做出初步检测。"
   ]
  },
  {
   "cell_type": "code",
   "execution_count": 12,
   "metadata": {},
   "outputs": [
    {
     "name": "stdout",
     "output_type": "stream",
     "text": [
      "\u001b[34m[Alex]\u001b[0m 看上去不错，给过！\n"
     ]
    }
   ],
   "source": [
    "alex.check_model_function(build_model)"
   ]
  },
  {
   "cell_type": "markdown",
   "metadata": {},
   "source": [
    "如果Alex没有抱怨任何错误的话，恭喜你掌握了使用 `Functional API` 构建模型的方法！是时候前往下一章节了！"
   ]
  },
  {
   "cell_type": "markdown",
   "metadata": {},
   "source": [
    "## 训练模型\n",
    "\n",
    "模型的训练过程有点像地球上河道的形成过程。随着流水沿着地表流淌，平坦的地面经年累月会形成深深的沟壑。模型就像是地表，而数据如同流水。深度神经网络的训练过程可以粗略分解为两步。第一步，数据从模型中流过，在模型的作用下得到一个输出值，即前向传播。第二步，将输出值与标签值做比较，得到两者之间的差距，然后以此为依据反过来逐级改变模型中的参数，即反向传播。\n",
    "\n",
    "训练模型的本质就是借助数据的流动来调整模型参数。\n",
    "\n",
    "深度学习框架已经将这个过程尽可能的自动化。不过由于任务类型千差万别，模型种类各不相同，你仍然需要提供一些额外信息以便TensorFlow理解数据的流动方式。这也是本章节你需要实现的功能。包括：\n",
    "\n",
    "- 将数据转换为模型能够接收的形式。\n",
    "- 构建模型，并让数据流过该模型。\n",
    "- 获得模型的输出，并与标签做比较，获得差异。\n",
    "- 根据差异调整模型参数。\n",
    "\n",
    "让我们开始吧！\n"
   ]
  },
  {
   "cell_type": "markdown",
   "metadata": {},
   "source": [
    "### 前向传播的起源\n",
    "\n",
    "前向传播的源头为数据。在第一个章节中你已经实现了两个函数来获得用于训练的图像像素值与标签值。像素值目前为一个list，包含60000个图像样本，每个样本包含28*28个像素。现在它们都串联在一起，而模型却无法分辨不同样本的边界在哪里。所以你需要把它们分割开来。标签数据面临相似的问题。\n",
    "\n",
    "对于输入到神经网络中的输入，归一化是一种非常常见的操作。当前每个像素的数值在0-255之间。请对这些数值实施归一化操作。\n",
    "\n",
    "另外，考虑到数据在模型训练过程中的重要性，TensorFlow提供了专门的 `Dataset` API来实现与训练有关的高效数据操作。在今后的项目中请尽可能使用该方法来组建训练数据集。\n",
    "\n",
    "接下来该你了。假设你拿到一个包含N个图像样本的list与一个包含N个标签的list，该如何操作把它们转化为TensorFlow可以支持的 `Dataset` 格式？请将你的方法填写在下方的函数中。\n",
    "\n",
    "> 线索: reshape, from_tensor_slice, 请注意神经网络的参数数据类型多为float32."
   ]
  },
  {
   "cell_type": "code",
   "execution_count": 13,
   "metadata": {},
   "outputs": [],
   "source": [
    "def build_dataset(pixel_list, label_list):\n",
    "    \"\"\"构建包含训练图像与标签的TensorFlow Dataset。\n",
    "\n",
    "    Args:\n",
    "        pixel_list: 包含N个图像像素数值的list\n",
    "        label_list: 包含N个标签的list\n",
    "    \n",
    "    Returns:\n",
    "        dataset: 一个TensorFlow Dataset，每次获取一个样本将返回一个图像与一个标签。\n",
    "    \"\"\"\n",
    "    pixels = tf.constant(pixel_list, dtype=tf.float32) / 255\n",
    "    pixels = tf.reshape(pixels, [-1, 28*28])\n",
    "    pixels = tf.data.Dataset.from_tensor_slices(pixels)\n",
    "\n",
    "    labels = tf.constant(label_list, dtype=tf.int64)\n",
    "    labesl = tf.reshape(labels, [-1, 1])\n",
    "    labels = tf.data.Dataset.from_tensor_slices(labels)\n",
    "\n",
    "    dataset = tf.data.Dataset.zip((pixels, labels))\n",
    "\n",
    "    return dataset"
   ]
  },
  {
   "cell_type": "markdown",
   "metadata": {},
   "source": [
    "Alex会很荣幸为你检查该方法是否符合预期。"
   ]
  },
  {
   "cell_type": "code",
   "execution_count": 14,
   "metadata": {},
   "outputs": [
    {
     "name": "stdout",
     "output_type": "stream",
     "text": [
      "\u001b[34m[Alex]\u001b[0m 看上去不错，加油！\n"
     ]
    }
   ],
   "source": [
    "alex.check_dataset_function(build_dataset)"
   ]
  },
  {
   "cell_type": "markdown",
   "metadata": {},
   "source": [
    "### 反向传播的起源\n",
    "\n",
    "模型预测值与标签的差异即为反向传播的起源。这个差异有一个专属名词叫做 `loss`。负责计算loss的函数称为损失函数。损失函数可以非常复杂，例如你在今后的人脸识别项目中看到的那样。不过不必担心，本项目的核心其实是一个简单分类问题。Keras提供了众多分类问题可用的损失函数供你选择。\n",
    "\n",
    "请查阅与loss函数相关的官方文档，并结合项目库实际选择合适的损失函数，填写在下方。\n",
    "\n"
   ]
  },
  {
   "cell_type": "code",
   "execution_count": 15,
   "metadata": {},
   "outputs": [],
   "source": [
    "loss_func = tf.keras.losses.SparseCategoricalCrossentropy(from_logits=True)"
   ]
  },
  {
   "cell_type": "markdown",
   "metadata": {},
   "source": [
    "同样，Alex会帮助检查该函数的正确性。"
   ]
  },
  {
   "cell_type": "code",
   "execution_count": 16,
   "metadata": {},
   "outputs": [
    {
     "name": "stdout",
     "output_type": "stream",
     "text": [
      "\u001b[34m[Alex]\u001b[0m 损失函数看上去很棒，请继续！\n"
     ]
    }
   ],
   "source": [
    "alex.check_loss_func(loss_func)"
   ]
  },
  {
   "cell_type": "markdown",
   "metadata": {},
   "source": [
    "### 优化器——负责更新参数的操作者\n",
    "\n",
    "深度神经网络使用梯度下降法来更新模型的权重参数。TensorFlow中的优化器（Optimizer）是这一参数更新算法的具体实现。你可以参与官方文档来了解不同的优化器之间的区别，并选择一款优化器用在本项目中。如果你不知道如何选择的话，`adam` 是一个不错的选择。\n",
    "\n",
    "请在下方构建本项目中要用到的优化器。"
   ]
  },
  {
   "cell_type": "code",
   "execution_count": 17,
   "metadata": {},
   "outputs": [],
   "source": [
    "optimizer = tf.keras.optimizers.Adam()"
   ]
  },
  {
   "cell_type": "markdown",
   "metadata": {},
   "source": [
    "Alex会做一个简单的检测。"
   ]
  },
  {
   "cell_type": "code",
   "execution_count": 18,
   "metadata": {},
   "outputs": [
    {
     "name": "stdout",
     "output_type": "stream",
     "text": [
      "\u001b[34m[Alex]\u001b[0m 优化器看上去正常。请继续。\n"
     ]
    }
   ],
   "source": [
    "alex.check_optimizer(optimizer)"
   ]
  },
  {
   "cell_type": "markdown",
   "metadata": {},
   "source": [
    "### 指标——评估模型的具体表现\n",
    "\n",
    "之前你已经构建了损失函数来比较模型预测值与标签之间的差异，很显然，损失值越小，即差异越小，模型表现越好。但是有时候我们还需要更加直观的数值来表征模型的好坏。这正是指标（Metric）要做的事情。TensorFlow提供了大量现成的指标供你选择。例如分类任务可以选择准确率。\n",
    "\n",
    "请阅读TensorFlow关于metrics模块的文档，并在下方构建本项目中将要使用的metric。"
   ]
  },
  {
   "cell_type": "code",
   "execution_count": 19,
   "metadata": {},
   "outputs": [],
   "source": [
    "metric = tf.keras.metrics.SparseCategoricalAccuracy()"
   ]
  },
  {
   "cell_type": "markdown",
   "metadata": {},
   "source": [
    "Alex将做一个辅助检查。"
   ]
  },
  {
   "cell_type": "code",
   "execution_count": 20,
   "metadata": {},
   "outputs": [
    {
     "name": "stdout",
     "output_type": "stream",
     "text": [
      "\u001b[34m[Alex]\u001b[0m 评价指标选择看上去不错！请继续。\n"
     ]
    }
   ],
   "source": [
    "alex.check_metrics([metric])"
   ]
  },
  {
   "cell_type": "markdown",
   "metadata": {},
   "source": [
    "### 准备训练用超参数\n",
    "\n",
    "神经网络训练时有几个关键的参数会影响到模型的训练过程，但是它们并非是模型本身参数的一部分。这些参数被称为超参数。"
   ]
  },
  {
   "cell_type": "markdown",
   "metadata": {},
   "source": [
    "#### Epoch\n",
    "\n",
    "Epoch常被翻译为“时代”、“纪元”。在深度学习中，一个Epoch代表模型在训练过程中见过了训练数据集的全部样本。可以理解为一个训练周期。在实际项目中，Epoch的数量取决于诸多因素，如问题的复杂程度、数据集大小、模型的规模等。在这个项目中，你可以自由调整Epoch的数值大小。你可以观察当Epoch取值不同时模型的不同表现。\n",
    "\n",
    "请在下方设定 `epochs` 的大小。"
   ]
  },
  {
   "cell_type": "code",
   "execution_count": 21,
   "metadata": {},
   "outputs": [],
   "source": [
    "epochs = 5"
   ]
  },
  {
   "cell_type": "markdown",
   "metadata": {},
   "source": [
    "#### Batch Size\n",
    "\n",
    "深度学习中模型的更新并非一步到位，而是一步一步逐渐完成的。每一次更新参数时，模型会使用一小部分样本作为参考。这一小部分样本被称为一个批次（Batch）。一个批次所包含的样本数量被称为批次大小（Batch Size）。批次大小是一个重要参数，有时会直接影响到你的模型表现。另外批次大小受限与GPU显存。这也是我们在之前的文章中建议新手如果有可能的话优先购买大显存显卡的理由。如果你在训练中遇到显存不足的提示，请尝试使用较小的批次大小。\n",
    "\n",
    "请在下方设定 `batch_size` 的大小。"
   ]
  },
  {
   "cell_type": "code",
   "execution_count": 22,
   "metadata": {},
   "outputs": [],
   "source": [
    "batch_size = 32"
   ]
  },
  {
   "cell_type": "markdown",
   "metadata": {},
   "source": [
    "好了，作为初学者这将是你最早认识的两个超参数。今后的项目中你会慢慢遇到更多超参数，并逐渐理解它们的用途。\n",
    "\n",
    "恭喜你，走到这一步实属不易！还有一个好消息，你已经完成了本项目中训练模型所需的大部分代码工作。接下来的代码将正式开始模型训练，准备好了吗？"
   ]
  },
  {
   "cell_type": "markdown",
   "metadata": {},
   "source": [
    "使用你已经写好的数据集函数构建训练与测试数据集。"
   ]
  },
  {
   "cell_type": "code",
   "execution_count": 23,
   "metadata": {},
   "outputs": [],
   "source": [
    "_, _, _, _, pixels_train = read_mnist_pixels(training_image_file)\n",
    "_, _, labels_train = read_mnist_labels(training_label_file)\n",
    "dataset_train = build_dataset(pixels_train, labels_train).batch(batch_size)\n",
    "\n",
    "_, _, _, _, pixels_test = read_mnist_pixels(test_image_file)\n",
    "_, _, labels_test = read_mnist_labels(test_label_file)\n",
    "dataset_test = build_dataset(pixels_test, labels_test).batch(batch_size)"
   ]
  },
  {
   "cell_type": "markdown",
   "metadata": {},
   "source": [
    "使用你编写的模型函数构造训练模型。"
   ]
  },
  {
   "cell_type": "code",
   "execution_count": 24,
   "metadata": {},
   "outputs": [],
   "source": [
    "model = build_model(units=128, rate=0.2)"
   ]
  },
  {
   "cell_type": "markdown",
   "metadata": {},
   "source": [
    "告知该模型应该使用何种loss函数、哪个优化器以及评估指标。"
   ]
  },
  {
   "cell_type": "code",
   "execution_count": 25,
   "metadata": {},
   "outputs": [],
   "source": [
    "model.compile(optimizer=optimizer, loss=loss_func, metrics=[metric])"
   ]
  },
  {
   "cell_type": "markdown",
   "metadata": {},
   "source": [
    "打印模型概况，做最后一步检查。"
   ]
  },
  {
   "cell_type": "code",
   "execution_count": 26,
   "metadata": {},
   "outputs": [
    {
     "name": "stdout",
     "output_type": "stream",
     "text": [
      "Model: \"model_1\"\n",
      "_________________________________________________________________\n",
      "Layer (type)                 Output Shape              Param #   \n",
      "=================================================================\n",
      "input_2 (InputLayer)         [(None, 784)]             0         \n",
      "_________________________________________________________________\n",
      "dense_2 (Dense)              (None, 128)               100480    \n",
      "_________________________________________________________________\n",
      "dropout_1 (Dropout)          (None, 128)               0         \n",
      "_________________________________________________________________\n",
      "dense_3 (Dense)              (None, 10)                1290      \n",
      "=================================================================\n",
      "Total params: 101,770\n",
      "Trainable params: 101,770\n",
      "Non-trainable params: 0\n",
      "_________________________________________________________________\n"
     ]
    }
   ],
   "source": [
    "model.summary()"
   ]
  },
  {
   "cell_type": "markdown",
   "metadata": {},
   "source": [
    "将以上的信息全部传递给模型，正式开始训练！"
   ]
  },
  {
   "cell_type": "code",
   "execution_count": 27,
   "metadata": {},
   "outputs": [
    {
     "name": "stdout",
     "output_type": "stream",
     "text": [
      "Epoch 1/5\n",
      "1875/1875 [==============================] - 3s 1ms/step - loss: 0.4739 - sparse_categorical_accuracy: 0.8633\n",
      "Epoch 2/5\n",
      "1875/1875 [==============================] - 2s 1ms/step - loss: 0.1610 - sparse_categorical_accuracy: 0.9526\n",
      "Epoch 3/5\n",
      "1875/1875 [==============================] - 2s 1ms/step - loss: 0.1158 - sparse_categorical_accuracy: 0.9649\n",
      "Epoch 4/5\n",
      "1875/1875 [==============================] - 2s 1ms/step - loss: 0.0905 - sparse_categorical_accuracy: 0.9727\n",
      "Epoch 5/5\n",
      "1875/1875 [==============================] - 2s 1ms/step - loss: 0.0774 - sparse_categorical_accuracy: 0.9759\n"
     ]
    },
    {
     "data": {
      "text/plain": [
       "<tensorflow.python.keras.callbacks.History at 0x7f7ab48b3dc0>"
      ]
     },
     "execution_count": 27,
     "metadata": {},
     "output_type": "execute_result"
    }
   ],
   "source": [
    "model.fit(dataset_train, epochs=epochs)"
   ]
  },
  {
   "cell_type": "markdown",
   "metadata": {},
   "source": [
    "怎么样，你的模型的分类准确率能达到多高？\n"
   ]
  },
  {
   "cell_type": "markdown",
   "metadata": {},
   "source": [
    "## 模型评估\n",
    "\n",
    "你还记得下载的数据集是分为训练数据集与测试数据集吗？你是否注意到目前为止我们还没有使用过测试数据集？此举为有意为之。为了真实反映模型的性能，模型在训练过程中无论如何都不可以接触测试数据集。否则就像学生期末考试时试卷上的题目都是平时做过的，测试也就失去了评价的意义。\n",
    "\n",
    "让我们来测试一下模型在测试数据集上的真实性能吧！"
   ]
  },
  {
   "cell_type": "code",
   "execution_count": 28,
   "metadata": {},
   "outputs": [
    {
     "name": "stdout",
     "output_type": "stream",
     "text": [
      "313/313 [==============================] - 0s 910us/step - loss: 0.0820 - sparse_categorical_accuracy: 0.9755\n"
     ]
    },
    {
     "data": {
      "text/plain": [
       "[0.08196576684713364, 0.9754999876022339]"
      ]
     },
     "execution_count": 28,
     "metadata": {},
     "output_type": "execute_result"
    }
   ],
   "source": [
    "model.evaluate(dataset_test)"
   ]
  },
  {
   "cell_type": "markdown",
   "metadata": {},
   "source": [
    "你对这个准确率表现还满意吗？"
   ]
  },
  {
   "cell_type": "markdown",
   "metadata": {},
   "source": [
    "## 模型保存\n",
    "\n",
    "如果你对模型及其满意，你很可能会想将模型保存并分享给其他人使用。TensorFlow 2中保存模型变成一件非常简单的事情。"
   ]
  },
  {
   "cell_type": "code",
   "execution_count": 29,
   "metadata": {},
   "outputs": [
    {
     "name": "stdout",
     "output_type": "stream",
     "text": [
      "INFO:tensorflow:Assets written to: mnist/assets\n"
     ]
    }
   ],
   "source": [
    "model.save(\"mnist\")"
   ]
  },
  {
   "cell_type": "markdown",
   "metadata": {},
   "source": [
    "注意这个时候模型的输出为原始值。如果你制作好的模型需要输出给工作部门的其他人使用的话，最好让模型的输出更加人性化，例如输出概率值。那么，请在下方为该模型添加概率数值转换功能吧！\n",
    "\n",
    "> 线索：还记得前边介绍过的 `Sequential API`吗？Keras layer可以堆叠为一个Keras model, 实际上，Keras model也可以堆叠。"
   ]
  },
  {
   "cell_type": "code",
   "execution_count": 30,
   "metadata": {},
   "outputs": [],
   "source": [
    "probability_model = tf.keras.Sequential([\n",
    "    model,\n",
    "    tf.keras.layers.Softmax()\n",
    "])"
   ]
  },
  {
   "cell_type": "markdown",
   "metadata": {},
   "source": [
    "接下来，请Alex使用转换后的模型为我们实际演示MNIST的分类结果。"
   ]
  },
  {
   "cell_type": "code",
   "execution_count": 31,
   "metadata": {},
   "outputs": [
    {
     "name": "stdout",
     "output_type": "stream",
     "text": [
      "\u001b[34m[Alex]\u001b[0m 预测结果为：7\n"
     ]
    },
    {
     "data": {
      "application/javascript": [
       "/* Put everything inside the global mpl namespace */\n",
       "/* global mpl */\n",
       "window.mpl = {};\n",
       "\n",
       "mpl.get_websocket_type = function () {\n",
       "    if (typeof WebSocket !== 'undefined') {\n",
       "        return WebSocket;\n",
       "    } else if (typeof MozWebSocket !== 'undefined') {\n",
       "        return MozWebSocket;\n",
       "    } else {\n",
       "        alert(\n",
       "            'Your browser does not have WebSocket support. ' +\n",
       "                'Please try Chrome, Safari or Firefox ≥ 6. ' +\n",
       "                'Firefox 4 and 5 are also supported but you ' +\n",
       "                'have to enable WebSockets in about:config.'\n",
       "        );\n",
       "    }\n",
       "};\n",
       "\n",
       "mpl.figure = function (figure_id, websocket, ondownload, parent_element) {\n",
       "    this.id = figure_id;\n",
       "\n",
       "    this.ws = websocket;\n",
       "\n",
       "    this.supports_binary = this.ws.binaryType !== undefined;\n",
       "\n",
       "    if (!this.supports_binary) {\n",
       "        var warnings = document.getElementById('mpl-warnings');\n",
       "        if (warnings) {\n",
       "            warnings.style.display = 'block';\n",
       "            warnings.textContent =\n",
       "                'This browser does not support binary websocket messages. ' +\n",
       "                'Performance may be slow.';\n",
       "        }\n",
       "    }\n",
       "\n",
       "    this.imageObj = new Image();\n",
       "\n",
       "    this.context = undefined;\n",
       "    this.message = undefined;\n",
       "    this.canvas = undefined;\n",
       "    this.rubberband_canvas = undefined;\n",
       "    this.rubberband_context = undefined;\n",
       "    this.format_dropdown = undefined;\n",
       "\n",
       "    this.image_mode = 'full';\n",
       "\n",
       "    this.root = document.createElement('div');\n",
       "    this.root.setAttribute('style', 'display: inline-block');\n",
       "    this._root_extra_style(this.root);\n",
       "\n",
       "    parent_element.appendChild(this.root);\n",
       "\n",
       "    this._init_header(this);\n",
       "    this._init_canvas(this);\n",
       "    this._init_toolbar(this);\n",
       "\n",
       "    var fig = this;\n",
       "\n",
       "    this.waiting = false;\n",
       "\n",
       "    this.ws.onopen = function () {\n",
       "        fig.send_message('supports_binary', { value: fig.supports_binary });\n",
       "        fig.send_message('send_image_mode', {});\n",
       "        if (fig.ratio !== 1) {\n",
       "            fig.send_message('set_dpi_ratio', { dpi_ratio: fig.ratio });\n",
       "        }\n",
       "        fig.send_message('refresh', {});\n",
       "    };\n",
       "\n",
       "    this.imageObj.onload = function () {\n",
       "        if (fig.image_mode === 'full') {\n",
       "            // Full images could contain transparency (where diff images\n",
       "            // almost always do), so we need to clear the canvas so that\n",
       "            // there is no ghosting.\n",
       "            fig.context.clearRect(0, 0, fig.canvas.width, fig.canvas.height);\n",
       "        }\n",
       "        fig.context.drawImage(fig.imageObj, 0, 0);\n",
       "    };\n",
       "\n",
       "    this.imageObj.onunload = function () {\n",
       "        fig.ws.close();\n",
       "    };\n",
       "\n",
       "    this.ws.onmessage = this._make_on_message_function(this);\n",
       "\n",
       "    this.ondownload = ondownload;\n",
       "};\n",
       "\n",
       "mpl.figure.prototype._init_header = function () {\n",
       "    var titlebar = document.createElement('div');\n",
       "    titlebar.classList =\n",
       "        'ui-dialog-titlebar ui-widget-header ui-corner-all ui-helper-clearfix';\n",
       "    var titletext = document.createElement('div');\n",
       "    titletext.classList = 'ui-dialog-title';\n",
       "    titletext.setAttribute(\n",
       "        'style',\n",
       "        'width: 100%; text-align: center; padding: 3px;'\n",
       "    );\n",
       "    titlebar.appendChild(titletext);\n",
       "    this.root.appendChild(titlebar);\n",
       "    this.header = titletext;\n",
       "};\n",
       "\n",
       "mpl.figure.prototype._canvas_extra_style = function (_canvas_div) {};\n",
       "\n",
       "mpl.figure.prototype._root_extra_style = function (_canvas_div) {};\n",
       "\n",
       "mpl.figure.prototype._init_canvas = function () {\n",
       "    var fig = this;\n",
       "\n",
       "    var canvas_div = (this.canvas_div = document.createElement('div'));\n",
       "    canvas_div.setAttribute(\n",
       "        'style',\n",
       "        'border: 1px solid #ddd;' +\n",
       "            'box-sizing: content-box;' +\n",
       "            'clear: both;' +\n",
       "            'min-height: 1px;' +\n",
       "            'min-width: 1px;' +\n",
       "            'outline: 0;' +\n",
       "            'overflow: hidden;' +\n",
       "            'position: relative;' +\n",
       "            'resize: both;'\n",
       "    );\n",
       "\n",
       "    function on_keyboard_event_closure(name) {\n",
       "        return function (event) {\n",
       "            return fig.key_event(event, name);\n",
       "        };\n",
       "    }\n",
       "\n",
       "    canvas_div.addEventListener(\n",
       "        'keydown',\n",
       "        on_keyboard_event_closure('key_press')\n",
       "    );\n",
       "    canvas_div.addEventListener(\n",
       "        'keyup',\n",
       "        on_keyboard_event_closure('key_release')\n",
       "    );\n",
       "\n",
       "    this._canvas_extra_style(canvas_div);\n",
       "    this.root.appendChild(canvas_div);\n",
       "\n",
       "    var canvas = (this.canvas = document.createElement('canvas'));\n",
       "    canvas.classList.add('mpl-canvas');\n",
       "    canvas.setAttribute('style', 'box-sizing: content-box;');\n",
       "\n",
       "    this.context = canvas.getContext('2d');\n",
       "\n",
       "    var backingStore =\n",
       "        this.context.backingStorePixelRatio ||\n",
       "        this.context.webkitBackingStorePixelRatio ||\n",
       "        this.context.mozBackingStorePixelRatio ||\n",
       "        this.context.msBackingStorePixelRatio ||\n",
       "        this.context.oBackingStorePixelRatio ||\n",
       "        this.context.backingStorePixelRatio ||\n",
       "        1;\n",
       "\n",
       "    this.ratio = (window.devicePixelRatio || 1) / backingStore;\n",
       "    if (this.ratio !== 1) {\n",
       "        fig.send_message('set_dpi_ratio', { dpi_ratio: this.ratio });\n",
       "    }\n",
       "\n",
       "    var rubberband_canvas = (this.rubberband_canvas = document.createElement(\n",
       "        'canvas'\n",
       "    ));\n",
       "    rubberband_canvas.setAttribute(\n",
       "        'style',\n",
       "        'box-sizing: content-box; position: absolute; left: 0; top: 0; z-index: 1;'\n",
       "    );\n",
       "\n",
       "    // Apply a ponyfill if ResizeObserver is not implemented by browser.\n",
       "    if (this.ResizeObserver === undefined) {\n",
       "        if (window.ResizeObserver !== undefined) {\n",
       "            this.ResizeObserver = window.ResizeObserver;\n",
       "        } else {\n",
       "            var obs = _JSXTOOLS_RESIZE_OBSERVER({});\n",
       "            this.ResizeObserver = obs.ResizeObserver;\n",
       "        }\n",
       "    }\n",
       "\n",
       "    this.resizeObserverInstance = new this.ResizeObserver(function (entries) {\n",
       "        var nentries = entries.length;\n",
       "        for (var i = 0; i < nentries; i++) {\n",
       "            var entry = entries[i];\n",
       "            var width, height;\n",
       "            if (entry.contentBoxSize) {\n",
       "                if (entry.contentBoxSize instanceof Array) {\n",
       "                    // Chrome 84 implements new version of spec.\n",
       "                    width = entry.contentBoxSize[0].inlineSize;\n",
       "                    height = entry.contentBoxSize[0].blockSize;\n",
       "                } else {\n",
       "                    // Firefox implements old version of spec.\n",
       "                    width = entry.contentBoxSize.inlineSize;\n",
       "                    height = entry.contentBoxSize.blockSize;\n",
       "                }\n",
       "            } else {\n",
       "                // Chrome <84 implements even older version of spec.\n",
       "                width = entry.contentRect.width;\n",
       "                height = entry.contentRect.height;\n",
       "            }\n",
       "\n",
       "            // Keep the size of the canvas and rubber band canvas in sync with\n",
       "            // the canvas container.\n",
       "            if (entry.devicePixelContentBoxSize) {\n",
       "                // Chrome 84 implements new version of spec.\n",
       "                canvas.setAttribute(\n",
       "                    'width',\n",
       "                    entry.devicePixelContentBoxSize[0].inlineSize\n",
       "                );\n",
       "                canvas.setAttribute(\n",
       "                    'height',\n",
       "                    entry.devicePixelContentBoxSize[0].blockSize\n",
       "                );\n",
       "            } else {\n",
       "                canvas.setAttribute('width', width * fig.ratio);\n",
       "                canvas.setAttribute('height', height * fig.ratio);\n",
       "            }\n",
       "            canvas.setAttribute(\n",
       "                'style',\n",
       "                'width: ' + width + 'px; height: ' + height + 'px;'\n",
       "            );\n",
       "\n",
       "            rubberband_canvas.setAttribute('width', width);\n",
       "            rubberband_canvas.setAttribute('height', height);\n",
       "\n",
       "            // And update the size in Python. We ignore the initial 0/0 size\n",
       "            // that occurs as the element is placed into the DOM, which should\n",
       "            // otherwise not happen due to the minimum size styling.\n",
       "            if (width != 0 && height != 0) {\n",
       "                fig.request_resize(width, height);\n",
       "            }\n",
       "        }\n",
       "    });\n",
       "    this.resizeObserverInstance.observe(canvas_div);\n",
       "\n",
       "    function on_mouse_event_closure(name) {\n",
       "        return function (event) {\n",
       "            return fig.mouse_event(event, name);\n",
       "        };\n",
       "    }\n",
       "\n",
       "    rubberband_canvas.addEventListener(\n",
       "        'mousedown',\n",
       "        on_mouse_event_closure('button_press')\n",
       "    );\n",
       "    rubberband_canvas.addEventListener(\n",
       "        'mouseup',\n",
       "        on_mouse_event_closure('button_release')\n",
       "    );\n",
       "    // Throttle sequential mouse events to 1 every 20ms.\n",
       "    rubberband_canvas.addEventListener(\n",
       "        'mousemove',\n",
       "        on_mouse_event_closure('motion_notify')\n",
       "    );\n",
       "\n",
       "    rubberband_canvas.addEventListener(\n",
       "        'mouseenter',\n",
       "        on_mouse_event_closure('figure_enter')\n",
       "    );\n",
       "    rubberband_canvas.addEventListener(\n",
       "        'mouseleave',\n",
       "        on_mouse_event_closure('figure_leave')\n",
       "    );\n",
       "\n",
       "    canvas_div.addEventListener('wheel', function (event) {\n",
       "        if (event.deltaY < 0) {\n",
       "            event.step = 1;\n",
       "        } else {\n",
       "            event.step = -1;\n",
       "        }\n",
       "        on_mouse_event_closure('scroll')(event);\n",
       "    });\n",
       "\n",
       "    canvas_div.appendChild(canvas);\n",
       "    canvas_div.appendChild(rubberband_canvas);\n",
       "\n",
       "    this.rubberband_context = rubberband_canvas.getContext('2d');\n",
       "    this.rubberband_context.strokeStyle = '#000000';\n",
       "\n",
       "    this._resize_canvas = function (width, height, forward) {\n",
       "        if (forward) {\n",
       "            canvas_div.style.width = width + 'px';\n",
       "            canvas_div.style.height = height + 'px';\n",
       "        }\n",
       "    };\n",
       "\n",
       "    // Disable right mouse context menu.\n",
       "    this.rubberband_canvas.addEventListener('contextmenu', function (_e) {\n",
       "        event.preventDefault();\n",
       "        return false;\n",
       "    });\n",
       "\n",
       "    function set_focus() {\n",
       "        canvas.focus();\n",
       "        canvas_div.focus();\n",
       "    }\n",
       "\n",
       "    window.setTimeout(set_focus, 100);\n",
       "};\n",
       "\n",
       "mpl.figure.prototype._init_toolbar = function () {\n",
       "    var fig = this;\n",
       "\n",
       "    var toolbar = document.createElement('div');\n",
       "    toolbar.classList = 'mpl-toolbar';\n",
       "    this.root.appendChild(toolbar);\n",
       "\n",
       "    function on_click_closure(name) {\n",
       "        return function (_event) {\n",
       "            return fig.toolbar_button_onclick(name);\n",
       "        };\n",
       "    }\n",
       "\n",
       "    function on_mouseover_closure(tooltip) {\n",
       "        return function (event) {\n",
       "            if (!event.currentTarget.disabled) {\n",
       "                return fig.toolbar_button_onmouseover(tooltip);\n",
       "            }\n",
       "        };\n",
       "    }\n",
       "\n",
       "    fig.buttons = {};\n",
       "    var buttonGroup = document.createElement('div');\n",
       "    buttonGroup.classList = 'mpl-button-group';\n",
       "    for (var toolbar_ind in mpl.toolbar_items) {\n",
       "        var name = mpl.toolbar_items[toolbar_ind][0];\n",
       "        var tooltip = mpl.toolbar_items[toolbar_ind][1];\n",
       "        var image = mpl.toolbar_items[toolbar_ind][2];\n",
       "        var method_name = mpl.toolbar_items[toolbar_ind][3];\n",
       "\n",
       "        if (!name) {\n",
       "            /* Instead of a spacer, we start a new button group. */\n",
       "            if (buttonGroup.hasChildNodes()) {\n",
       "                toolbar.appendChild(buttonGroup);\n",
       "            }\n",
       "            buttonGroup = document.createElement('div');\n",
       "            buttonGroup.classList = 'mpl-button-group';\n",
       "            continue;\n",
       "        }\n",
       "\n",
       "        var button = (fig.buttons[name] = document.createElement('button'));\n",
       "        button.classList = 'mpl-widget';\n",
       "        button.setAttribute('role', 'button');\n",
       "        button.setAttribute('aria-disabled', 'false');\n",
       "        button.addEventListener('click', on_click_closure(method_name));\n",
       "        button.addEventListener('mouseover', on_mouseover_closure(tooltip));\n",
       "\n",
       "        var icon_img = document.createElement('img');\n",
       "        icon_img.src = '_images/' + image + '.png';\n",
       "        icon_img.srcset = '_images/' + image + '_large.png 2x';\n",
       "        icon_img.alt = tooltip;\n",
       "        button.appendChild(icon_img);\n",
       "\n",
       "        buttonGroup.appendChild(button);\n",
       "    }\n",
       "\n",
       "    if (buttonGroup.hasChildNodes()) {\n",
       "        toolbar.appendChild(buttonGroup);\n",
       "    }\n",
       "\n",
       "    var fmt_picker = document.createElement('select');\n",
       "    fmt_picker.classList = 'mpl-widget';\n",
       "    toolbar.appendChild(fmt_picker);\n",
       "    this.format_dropdown = fmt_picker;\n",
       "\n",
       "    for (var ind in mpl.extensions) {\n",
       "        var fmt = mpl.extensions[ind];\n",
       "        var option = document.createElement('option');\n",
       "        option.selected = fmt === mpl.default_extension;\n",
       "        option.innerHTML = fmt;\n",
       "        fmt_picker.appendChild(option);\n",
       "    }\n",
       "\n",
       "    var status_bar = document.createElement('span');\n",
       "    status_bar.classList = 'mpl-message';\n",
       "    toolbar.appendChild(status_bar);\n",
       "    this.message = status_bar;\n",
       "};\n",
       "\n",
       "mpl.figure.prototype.request_resize = function (x_pixels, y_pixels) {\n",
       "    // Request matplotlib to resize the figure. Matplotlib will then trigger a resize in the client,\n",
       "    // which will in turn request a refresh of the image.\n",
       "    this.send_message('resize', { width: x_pixels, height: y_pixels });\n",
       "};\n",
       "\n",
       "mpl.figure.prototype.send_message = function (type, properties) {\n",
       "    properties['type'] = type;\n",
       "    properties['figure_id'] = this.id;\n",
       "    this.ws.send(JSON.stringify(properties));\n",
       "};\n",
       "\n",
       "mpl.figure.prototype.send_draw_message = function () {\n",
       "    if (!this.waiting) {\n",
       "        this.waiting = true;\n",
       "        this.ws.send(JSON.stringify({ type: 'draw', figure_id: this.id }));\n",
       "    }\n",
       "};\n",
       "\n",
       "mpl.figure.prototype.handle_save = function (fig, _msg) {\n",
       "    var format_dropdown = fig.format_dropdown;\n",
       "    var format = format_dropdown.options[format_dropdown.selectedIndex].value;\n",
       "    fig.ondownload(fig, format);\n",
       "};\n",
       "\n",
       "mpl.figure.prototype.handle_resize = function (fig, msg) {\n",
       "    var size = msg['size'];\n",
       "    if (size[0] !== fig.canvas.width || size[1] !== fig.canvas.height) {\n",
       "        fig._resize_canvas(size[0], size[1], msg['forward']);\n",
       "        fig.send_message('refresh', {});\n",
       "    }\n",
       "};\n",
       "\n",
       "mpl.figure.prototype.handle_rubberband = function (fig, msg) {\n",
       "    var x0 = msg['x0'] / fig.ratio;\n",
       "    var y0 = (fig.canvas.height - msg['y0']) / fig.ratio;\n",
       "    var x1 = msg['x1'] / fig.ratio;\n",
       "    var y1 = (fig.canvas.height - msg['y1']) / fig.ratio;\n",
       "    x0 = Math.floor(x0) + 0.5;\n",
       "    y0 = Math.floor(y0) + 0.5;\n",
       "    x1 = Math.floor(x1) + 0.5;\n",
       "    y1 = Math.floor(y1) + 0.5;\n",
       "    var min_x = Math.min(x0, x1);\n",
       "    var min_y = Math.min(y0, y1);\n",
       "    var width = Math.abs(x1 - x0);\n",
       "    var height = Math.abs(y1 - y0);\n",
       "\n",
       "    fig.rubberband_context.clearRect(\n",
       "        0,\n",
       "        0,\n",
       "        fig.canvas.width / fig.ratio,\n",
       "        fig.canvas.height / fig.ratio\n",
       "    );\n",
       "\n",
       "    fig.rubberband_context.strokeRect(min_x, min_y, width, height);\n",
       "};\n",
       "\n",
       "mpl.figure.prototype.handle_figure_label = function (fig, msg) {\n",
       "    // Updates the figure title.\n",
       "    fig.header.textContent = msg['label'];\n",
       "};\n",
       "\n",
       "mpl.figure.prototype.handle_cursor = function (fig, msg) {\n",
       "    var cursor = msg['cursor'];\n",
       "    switch (cursor) {\n",
       "        case 0:\n",
       "            cursor = 'pointer';\n",
       "            break;\n",
       "        case 1:\n",
       "            cursor = 'default';\n",
       "            break;\n",
       "        case 2:\n",
       "            cursor = 'crosshair';\n",
       "            break;\n",
       "        case 3:\n",
       "            cursor = 'move';\n",
       "            break;\n",
       "    }\n",
       "    fig.rubberband_canvas.style.cursor = cursor;\n",
       "};\n",
       "\n",
       "mpl.figure.prototype.handle_message = function (fig, msg) {\n",
       "    fig.message.textContent = msg['message'];\n",
       "};\n",
       "\n",
       "mpl.figure.prototype.handle_draw = function (fig, _msg) {\n",
       "    // Request the server to send over a new figure.\n",
       "    fig.send_draw_message();\n",
       "};\n",
       "\n",
       "mpl.figure.prototype.handle_image_mode = function (fig, msg) {\n",
       "    fig.image_mode = msg['mode'];\n",
       "};\n",
       "\n",
       "mpl.figure.prototype.handle_history_buttons = function (fig, msg) {\n",
       "    for (var key in msg) {\n",
       "        if (!(key in fig.buttons)) {\n",
       "            continue;\n",
       "        }\n",
       "        fig.buttons[key].disabled = !msg[key];\n",
       "        fig.buttons[key].setAttribute('aria-disabled', !msg[key]);\n",
       "    }\n",
       "};\n",
       "\n",
       "mpl.figure.prototype.handle_navigate_mode = function (fig, msg) {\n",
       "    if (msg['mode'] === 'PAN') {\n",
       "        fig.buttons['Pan'].classList.add('active');\n",
       "        fig.buttons['Zoom'].classList.remove('active');\n",
       "    } else if (msg['mode'] === 'ZOOM') {\n",
       "        fig.buttons['Pan'].classList.remove('active');\n",
       "        fig.buttons['Zoom'].classList.add('active');\n",
       "    } else {\n",
       "        fig.buttons['Pan'].classList.remove('active');\n",
       "        fig.buttons['Zoom'].classList.remove('active');\n",
       "    }\n",
       "};\n",
       "\n",
       "mpl.figure.prototype.updated_canvas_event = function () {\n",
       "    // Called whenever the canvas gets updated.\n",
       "    this.send_message('ack', {});\n",
       "};\n",
       "\n",
       "// A function to construct a web socket function for onmessage handling.\n",
       "// Called in the figure constructor.\n",
       "mpl.figure.prototype._make_on_message_function = function (fig) {\n",
       "    return function socket_on_message(evt) {\n",
       "        if (evt.data instanceof Blob) {\n",
       "            /* FIXME: We get \"Resource interpreted as Image but\n",
       "             * transferred with MIME type text/plain:\" errors on\n",
       "             * Chrome.  But how to set the MIME type?  It doesn't seem\n",
       "             * to be part of the websocket stream */\n",
       "            evt.data.type = 'image/png';\n",
       "\n",
       "            /* Free the memory for the previous frames */\n",
       "            if (fig.imageObj.src) {\n",
       "                (window.URL || window.webkitURL).revokeObjectURL(\n",
       "                    fig.imageObj.src\n",
       "                );\n",
       "            }\n",
       "\n",
       "            fig.imageObj.src = (window.URL || window.webkitURL).createObjectURL(\n",
       "                evt.data\n",
       "            );\n",
       "            fig.updated_canvas_event();\n",
       "            fig.waiting = false;\n",
       "            return;\n",
       "        } else if (\n",
       "            typeof evt.data === 'string' &&\n",
       "            evt.data.slice(0, 21) === 'data:image/png;base64'\n",
       "        ) {\n",
       "            fig.imageObj.src = evt.data;\n",
       "            fig.updated_canvas_event();\n",
       "            fig.waiting = false;\n",
       "            return;\n",
       "        }\n",
       "\n",
       "        var msg = JSON.parse(evt.data);\n",
       "        var msg_type = msg['type'];\n",
       "\n",
       "        // Call the  \"handle_{type}\" callback, which takes\n",
       "        // the figure and JSON message as its only arguments.\n",
       "        try {\n",
       "            var callback = fig['handle_' + msg_type];\n",
       "        } catch (e) {\n",
       "            console.log(\n",
       "                \"No handler for the '\" + msg_type + \"' message type: \",\n",
       "                msg\n",
       "            );\n",
       "            return;\n",
       "        }\n",
       "\n",
       "        if (callback) {\n",
       "            try {\n",
       "                // console.log(\"Handling '\" + msg_type + \"' message: \", msg);\n",
       "                callback(fig, msg);\n",
       "            } catch (e) {\n",
       "                console.log(\n",
       "                    \"Exception inside the 'handler_\" + msg_type + \"' callback:\",\n",
       "                    e,\n",
       "                    e.stack,\n",
       "                    msg\n",
       "                );\n",
       "            }\n",
       "        }\n",
       "    };\n",
       "};\n",
       "\n",
       "// from http://stackoverflow.com/questions/1114465/getting-mouse-location-in-canvas\n",
       "mpl.findpos = function (e) {\n",
       "    //this section is from http://www.quirksmode.org/js/events_properties.html\n",
       "    var targ;\n",
       "    if (!e) {\n",
       "        e = window.event;\n",
       "    }\n",
       "    if (e.target) {\n",
       "        targ = e.target;\n",
       "    } else if (e.srcElement) {\n",
       "        targ = e.srcElement;\n",
       "    }\n",
       "    if (targ.nodeType === 3) {\n",
       "        // defeat Safari bug\n",
       "        targ = targ.parentNode;\n",
       "    }\n",
       "\n",
       "    // pageX,Y are the mouse positions relative to the document\n",
       "    var boundingRect = targ.getBoundingClientRect();\n",
       "    var x = e.pageX - (boundingRect.left + document.body.scrollLeft);\n",
       "    var y = e.pageY - (boundingRect.top + document.body.scrollTop);\n",
       "\n",
       "    return { x: x, y: y };\n",
       "};\n",
       "\n",
       "/*\n",
       " * return a copy of an object with only non-object keys\n",
       " * we need this to avoid circular references\n",
       " * http://stackoverflow.com/a/24161582/3208463\n",
       " */\n",
       "function simpleKeys(original) {\n",
       "    return Object.keys(original).reduce(function (obj, key) {\n",
       "        if (typeof original[key] !== 'object') {\n",
       "            obj[key] = original[key];\n",
       "        }\n",
       "        return obj;\n",
       "    }, {});\n",
       "}\n",
       "\n",
       "mpl.figure.prototype.mouse_event = function (event, name) {\n",
       "    var canvas_pos = mpl.findpos(event);\n",
       "\n",
       "    if (name === 'button_press') {\n",
       "        this.canvas.focus();\n",
       "        this.canvas_div.focus();\n",
       "    }\n",
       "\n",
       "    var x = canvas_pos.x * this.ratio;\n",
       "    var y = canvas_pos.y * this.ratio;\n",
       "\n",
       "    this.send_message(name, {\n",
       "        x: x,\n",
       "        y: y,\n",
       "        button: event.button,\n",
       "        step: event.step,\n",
       "        guiEvent: simpleKeys(event),\n",
       "    });\n",
       "\n",
       "    /* This prevents the web browser from automatically changing to\n",
       "     * the text insertion cursor when the button is pressed.  We want\n",
       "     * to control all of the cursor setting manually through the\n",
       "     * 'cursor' event from matplotlib */\n",
       "    event.preventDefault();\n",
       "    return false;\n",
       "};\n",
       "\n",
       "mpl.figure.prototype._key_event_extra = function (_event, _name) {\n",
       "    // Handle any extra behaviour associated with a key event\n",
       "};\n",
       "\n",
       "mpl.figure.prototype.key_event = function (event, name) {\n",
       "    // Prevent repeat events\n",
       "    if (name === 'key_press') {\n",
       "        if (event.which === this._key) {\n",
       "            return;\n",
       "        } else {\n",
       "            this._key = event.which;\n",
       "        }\n",
       "    }\n",
       "    if (name === 'key_release') {\n",
       "        this._key = null;\n",
       "    }\n",
       "\n",
       "    var value = '';\n",
       "    if (event.ctrlKey && event.which !== 17) {\n",
       "        value += 'ctrl+';\n",
       "    }\n",
       "    if (event.altKey && event.which !== 18) {\n",
       "        value += 'alt+';\n",
       "    }\n",
       "    if (event.shiftKey && event.which !== 16) {\n",
       "        value += 'shift+';\n",
       "    }\n",
       "\n",
       "    value += 'k';\n",
       "    value += event.which.toString();\n",
       "\n",
       "    this._key_event_extra(event, name);\n",
       "\n",
       "    this.send_message(name, { key: value, guiEvent: simpleKeys(event) });\n",
       "    return false;\n",
       "};\n",
       "\n",
       "mpl.figure.prototype.toolbar_button_onclick = function (name) {\n",
       "    if (name === 'download') {\n",
       "        this.handle_save(this, null);\n",
       "    } else {\n",
       "        this.send_message('toolbar_button', { name: name });\n",
       "    }\n",
       "};\n",
       "\n",
       "mpl.figure.prototype.toolbar_button_onmouseover = function (tooltip) {\n",
       "    this.message.textContent = tooltip;\n",
       "};\n",
       "\n",
       "///////////////// REMAINING CONTENT GENERATED BY embed_js.py /////////////////\n",
       "// prettier-ignore\n",
       "var _JSXTOOLS_RESIZE_OBSERVER=function(A){var t,i=new WeakMap,n=new WeakMap,a=new WeakMap,r=new WeakMap,o=new Set;function s(e){if(!(this instanceof s))throw new TypeError(\"Constructor requires 'new' operator\");i.set(this,e)}function h(){throw new TypeError(\"Function is not a constructor\")}function c(e,t,i,n){e=0 in arguments?Number(arguments[0]):0,t=1 in arguments?Number(arguments[1]):0,i=2 in arguments?Number(arguments[2]):0,n=3 in arguments?Number(arguments[3]):0,this.right=(this.x=this.left=e)+(this.width=i),this.bottom=(this.y=this.top=t)+(this.height=n),Object.freeze(this)}function d(){t=requestAnimationFrame(d);var s=new WeakMap,p=new Set;o.forEach((function(t){r.get(t).forEach((function(i){var r=t instanceof window.SVGElement,o=a.get(t),d=r?0:parseFloat(o.paddingTop),f=r?0:parseFloat(o.paddingRight),l=r?0:parseFloat(o.paddingBottom),u=r?0:parseFloat(o.paddingLeft),g=r?0:parseFloat(o.borderTopWidth),m=r?0:parseFloat(o.borderRightWidth),w=r?0:parseFloat(o.borderBottomWidth),b=u+f,F=d+l,v=(r?0:parseFloat(o.borderLeftWidth))+m,W=g+w,y=r?0:t.offsetHeight-W-t.clientHeight,E=r?0:t.offsetWidth-v-t.clientWidth,R=b+v,z=F+W,M=r?t.width:parseFloat(o.width)-R-E,O=r?t.height:parseFloat(o.height)-z-y;if(n.has(t)){var k=n.get(t);if(k[0]===M&&k[1]===O)return}n.set(t,[M,O]);var S=Object.create(h.prototype);S.target=t,S.contentRect=new c(u,d,M,O),s.has(i)||(s.set(i,[]),p.add(i)),s.get(i).push(S)}))})),p.forEach((function(e){i.get(e).call(e,s.get(e),e)}))}return s.prototype.observe=function(i){if(i instanceof window.Element){r.has(i)||(r.set(i,new Set),o.add(i),a.set(i,window.getComputedStyle(i)));var n=r.get(i);n.has(this)||n.add(this),cancelAnimationFrame(t),t=requestAnimationFrame(d)}},s.prototype.unobserve=function(i){if(i instanceof window.Element&&r.has(i)){var n=r.get(i);n.has(this)&&(n.delete(this),n.size||(r.delete(i),o.delete(i))),n.size||r.delete(i),o.size||cancelAnimationFrame(t)}},A.DOMRectReadOnly=c,A.ResizeObserver=s,A.ResizeObserverEntry=h,A}; // eslint-disable-line\n",
       "mpl.toolbar_items = [[\"Home\", \"Reset original view\", \"fa fa-home icon-home\", \"home\"], [\"Back\", \"Back to previous view\", \"fa fa-arrow-left icon-arrow-left\", \"back\"], [\"Forward\", \"Forward to next view\", \"fa fa-arrow-right icon-arrow-right\", \"forward\"], [\"\", \"\", \"\", \"\"], [\"Pan\", \"Left button pans, Right button zooms\\nx/y fixes axis, CTRL fixes aspect\", \"fa fa-arrows icon-move\", \"pan\"], [\"Zoom\", \"Zoom to rectangle\\nx/y fixes axis, CTRL fixes aspect\", \"fa fa-square-o icon-check-empty\", \"zoom\"], [\"\", \"\", \"\", \"\"], [\"Download\", \"Download plot\", \"fa fa-floppy-o icon-save\", \"download\"]];\n",
       "\n",
       "mpl.extensions = [\"eps\", \"jpeg\", \"pdf\", \"png\", \"ps\", \"raw\", \"svg\", \"tif\"];\n",
       "\n",
       "mpl.default_extension = \"png\";/* global mpl */\n",
       "\n",
       "var comm_websocket_adapter = function (comm) {\n",
       "    // Create a \"websocket\"-like object which calls the given IPython comm\n",
       "    // object with the appropriate methods. Currently this is a non binary\n",
       "    // socket, so there is still some room for performance tuning.\n",
       "    var ws = {};\n",
       "\n",
       "    ws.close = function () {\n",
       "        comm.close();\n",
       "    };\n",
       "    ws.send = function (m) {\n",
       "        //console.log('sending', m);\n",
       "        comm.send(m);\n",
       "    };\n",
       "    // Register the callback with on_msg.\n",
       "    comm.on_msg(function (msg) {\n",
       "        //console.log('receiving', msg['content']['data'], msg);\n",
       "        // Pass the mpl event to the overridden (by mpl) onmessage function.\n",
       "        ws.onmessage(msg['content']['data']);\n",
       "    });\n",
       "    return ws;\n",
       "};\n",
       "\n",
       "mpl.mpl_figure_comm = function (comm, msg) {\n",
       "    // This is the function which gets called when the mpl process\n",
       "    // starts-up an IPython Comm through the \"matplotlib\" channel.\n",
       "\n",
       "    var id = msg.content.data.id;\n",
       "    // Get hold of the div created by the display call when the Comm\n",
       "    // socket was opened in Python.\n",
       "    var element = document.getElementById(id);\n",
       "    var ws_proxy = comm_websocket_adapter(comm);\n",
       "\n",
       "    function ondownload(figure, _format) {\n",
       "        window.open(figure.canvas.toDataURL());\n",
       "    }\n",
       "\n",
       "    var fig = new mpl.figure(id, ws_proxy, ondownload, element);\n",
       "\n",
       "    // Call onopen now - mpl needs it, as it is assuming we've passed it a real\n",
       "    // web socket which is closed, not our websocket->open comm proxy.\n",
       "    ws_proxy.onopen();\n",
       "\n",
       "    fig.parent_element = element;\n",
       "    fig.cell_info = mpl.find_output_cell(\"<div id='\" + id + \"'></div>\");\n",
       "    if (!fig.cell_info) {\n",
       "        console.error('Failed to find cell for figure', id, fig);\n",
       "        return;\n",
       "    }\n",
       "    fig.cell_info[0].output_area.element.on(\n",
       "        'cleared',\n",
       "        { fig: fig },\n",
       "        fig._remove_fig_handler\n",
       "    );\n",
       "};\n",
       "\n",
       "mpl.figure.prototype.handle_close = function (fig, msg) {\n",
       "    var width = fig.canvas.width / fig.ratio;\n",
       "    fig.cell_info[0].output_area.element.off(\n",
       "        'cleared',\n",
       "        fig._remove_fig_handler\n",
       "    );\n",
       "    fig.resizeObserverInstance.unobserve(fig.canvas_div);\n",
       "\n",
       "    // Update the output cell to use the data from the current canvas.\n",
       "    fig.push_to_output();\n",
       "    var dataURL = fig.canvas.toDataURL();\n",
       "    // Re-enable the keyboard manager in IPython - without this line, in FF,\n",
       "    // the notebook keyboard shortcuts fail.\n",
       "    IPython.keyboard_manager.enable();\n",
       "    fig.parent_element.innerHTML =\n",
       "        '<img src=\"' + dataURL + '\" width=\"' + width + '\">';\n",
       "    fig.close_ws(fig, msg);\n",
       "};\n",
       "\n",
       "mpl.figure.prototype.close_ws = function (fig, msg) {\n",
       "    fig.send_message('closing', msg);\n",
       "    // fig.ws.close()\n",
       "};\n",
       "\n",
       "mpl.figure.prototype.push_to_output = function (_remove_interactive) {\n",
       "    // Turn the data on the canvas into data in the output cell.\n",
       "    var width = this.canvas.width / this.ratio;\n",
       "    var dataURL = this.canvas.toDataURL();\n",
       "    this.cell_info[1]['text/html'] =\n",
       "        '<img src=\"' + dataURL + '\" width=\"' + width + '\">';\n",
       "};\n",
       "\n",
       "mpl.figure.prototype.updated_canvas_event = function () {\n",
       "    // Tell IPython that the notebook contents must change.\n",
       "    IPython.notebook.set_dirty(true);\n",
       "    this.send_message('ack', {});\n",
       "    var fig = this;\n",
       "    // Wait a second, then push the new image to the DOM so\n",
       "    // that it is saved nicely (might be nice to debounce this).\n",
       "    setTimeout(function () {\n",
       "        fig.push_to_output();\n",
       "    }, 1000);\n",
       "};\n",
       "\n",
       "mpl.figure.prototype._init_toolbar = function () {\n",
       "    var fig = this;\n",
       "\n",
       "    var toolbar = document.createElement('div');\n",
       "    toolbar.classList = 'btn-toolbar';\n",
       "    this.root.appendChild(toolbar);\n",
       "\n",
       "    function on_click_closure(name) {\n",
       "        return function (_event) {\n",
       "            return fig.toolbar_button_onclick(name);\n",
       "        };\n",
       "    }\n",
       "\n",
       "    function on_mouseover_closure(tooltip) {\n",
       "        return function (event) {\n",
       "            if (!event.currentTarget.disabled) {\n",
       "                return fig.toolbar_button_onmouseover(tooltip);\n",
       "            }\n",
       "        };\n",
       "    }\n",
       "\n",
       "    fig.buttons = {};\n",
       "    var buttonGroup = document.createElement('div');\n",
       "    buttonGroup.classList = 'btn-group';\n",
       "    var button;\n",
       "    for (var toolbar_ind in mpl.toolbar_items) {\n",
       "        var name = mpl.toolbar_items[toolbar_ind][0];\n",
       "        var tooltip = mpl.toolbar_items[toolbar_ind][1];\n",
       "        var image = mpl.toolbar_items[toolbar_ind][2];\n",
       "        var method_name = mpl.toolbar_items[toolbar_ind][3];\n",
       "\n",
       "        if (!name) {\n",
       "            /* Instead of a spacer, we start a new button group. */\n",
       "            if (buttonGroup.hasChildNodes()) {\n",
       "                toolbar.appendChild(buttonGroup);\n",
       "            }\n",
       "            buttonGroup = document.createElement('div');\n",
       "            buttonGroup.classList = 'btn-group';\n",
       "            continue;\n",
       "        }\n",
       "\n",
       "        button = fig.buttons[name] = document.createElement('button');\n",
       "        button.classList = 'btn btn-default';\n",
       "        button.href = '#';\n",
       "        button.title = name;\n",
       "        button.innerHTML = '<i class=\"fa ' + image + ' fa-lg\"></i>';\n",
       "        button.addEventListener('click', on_click_closure(method_name));\n",
       "        button.addEventListener('mouseover', on_mouseover_closure(tooltip));\n",
       "        buttonGroup.appendChild(button);\n",
       "    }\n",
       "\n",
       "    if (buttonGroup.hasChildNodes()) {\n",
       "        toolbar.appendChild(buttonGroup);\n",
       "    }\n",
       "\n",
       "    // Add the status bar.\n",
       "    var status_bar = document.createElement('span');\n",
       "    status_bar.classList = 'mpl-message pull-right';\n",
       "    toolbar.appendChild(status_bar);\n",
       "    this.message = status_bar;\n",
       "\n",
       "    // Add the close button to the window.\n",
       "    var buttongrp = document.createElement('div');\n",
       "    buttongrp.classList = 'btn-group inline pull-right';\n",
       "    button = document.createElement('button');\n",
       "    button.classList = 'btn btn-mini btn-primary';\n",
       "    button.href = '#';\n",
       "    button.title = 'Stop Interaction';\n",
       "    button.innerHTML = '<i class=\"fa fa-power-off icon-remove icon-large\"></i>';\n",
       "    button.addEventListener('click', function (_evt) {\n",
       "        fig.handle_close(fig, {});\n",
       "    });\n",
       "    button.addEventListener(\n",
       "        'mouseover',\n",
       "        on_mouseover_closure('Stop Interaction')\n",
       "    );\n",
       "    buttongrp.appendChild(button);\n",
       "    var titlebar = this.root.querySelector('.ui-dialog-titlebar');\n",
       "    titlebar.insertBefore(buttongrp, titlebar.firstChild);\n",
       "};\n",
       "\n",
       "mpl.figure.prototype._remove_fig_handler = function (event) {\n",
       "    var fig = event.data.fig;\n",
       "    if (event.target !== this) {\n",
       "        // Ignore bubbled events from children.\n",
       "        return;\n",
       "    }\n",
       "    fig.close_ws(fig, {});\n",
       "};\n",
       "\n",
       "mpl.figure.prototype._root_extra_style = function (el) {\n",
       "    el.style.boxSizing = 'content-box'; // override notebook setting of border-box.\n",
       "};\n",
       "\n",
       "mpl.figure.prototype._canvas_extra_style = function (el) {\n",
       "    // this is important to make the div 'focusable\n",
       "    el.setAttribute('tabindex', 0);\n",
       "    // reach out to IPython and tell the keyboard manager to turn it's self\n",
       "    // off when our div gets focus\n",
       "\n",
       "    // location in version 3\n",
       "    if (IPython.notebook.keyboard_manager) {\n",
       "        IPython.notebook.keyboard_manager.register_events(el);\n",
       "    } else {\n",
       "        // location in version 2\n",
       "        IPython.keyboard_manager.register_events(el);\n",
       "    }\n",
       "};\n",
       "\n",
       "mpl.figure.prototype._key_event_extra = function (event, _name) {\n",
       "    var manager = IPython.notebook.keyboard_manager;\n",
       "    if (!manager) {\n",
       "        manager = IPython.keyboard_manager;\n",
       "    }\n",
       "\n",
       "    // Check for shift+enter\n",
       "    if (event.shiftKey && event.which === 13) {\n",
       "        this.canvas_div.blur();\n",
       "        // select the cell after this one\n",
       "        var index = IPython.notebook.find_cell_index(this.cell_info[0]);\n",
       "        IPython.notebook.select(index + 1);\n",
       "    }\n",
       "};\n",
       "\n",
       "mpl.figure.prototype.handle_save = function (fig, _msg) {\n",
       "    fig.ondownload(fig, null);\n",
       "};\n",
       "\n",
       "mpl.find_output_cell = function (html_output) {\n",
       "    // Return the cell and output element which can be found *uniquely* in the notebook.\n",
       "    // Note - this is a bit hacky, but it is done because the \"notebook_saving.Notebook\"\n",
       "    // IPython event is triggered only after the cells have been serialised, which for\n",
       "    // our purposes (turning an active figure into a static one), is too late.\n",
       "    var cells = IPython.notebook.get_cells();\n",
       "    var ncells = cells.length;\n",
       "    for (var i = 0; i < ncells; i++) {\n",
       "        var cell = cells[i];\n",
       "        if (cell.cell_type === 'code') {\n",
       "            for (var j = 0; j < cell.output_area.outputs.length; j++) {\n",
       "                var data = cell.output_area.outputs[j];\n",
       "                if (data.data) {\n",
       "                    // IPython >= 3 moved mimebundle to data attribute of output\n",
       "                    data = data.data;\n",
       "                }\n",
       "                if (data['text/html'] === html_output) {\n",
       "                    return [cell, data, j];\n",
       "                }\n",
       "            }\n",
       "        }\n",
       "    }\n",
       "};\n",
       "\n",
       "// Register the function which deals with the matplotlib target/channel.\n",
       "// The kernel may be null if the page has been refreshed.\n",
       "if (IPython.notebook.kernel !== null) {\n",
       "    IPython.notebook.kernel.comm_manager.register_target(\n",
       "        'matplotlib',\n",
       "        mpl.mpl_figure_comm\n",
       "    );\n",
       "}\n"
      ],
      "text/plain": [
       "<IPython.core.display.Javascript object>"
      ]
     },
     "metadata": {},
     "output_type": "display_data"
    },
    {
     "data": {
      "text/html": [
       "<img src=\"data:image/png;base64,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\" width=\"640\">"
      ],
      "text/plain": [
       "<IPython.core.display.HTML object>"
      ]
     },
     "metadata": {},
     "output_type": "display_data"
    },
    {
     "data": {
      "text/plain": [
       "<matplotlib.image.AxesImage at 0x7f734ac3dee0>"
      ]
     },
     "execution_count": 31,
     "metadata": {},
     "output_type": "execute_result"
    }
   ],
   "source": [
    "image = alex.demo(probability_model)\n",
    "\n",
    "%matplotlib notebook\n",
    "import matplotlib.pyplot as plt\n",
    "plt.imshow(image)"
   ]
  },
  {
   "cell_type": "markdown",
   "metadata": {},
   "source": [
    "怎么样，你的模型是否准确识别出了图像中的数字？"
   ]
  },
  {
   "cell_type": "markdown",
   "metadata": {},
   "source": [
    "## 总结\n",
    "\n",
    "恭喜，你已经成功完成了第一个神经网络项目！\n",
    "\n",
    "这个项目虽小，但是五脏俱全。你通过自己的努力完成了以下任务：\n",
    "\n",
    "1. 原始数据搜集与读取，训练数据生成与预处理。\n",
    "2. 使用Sequential与Functional两种方式构建深度神经网络。\n",
    "3. 构建训练所需的优化器、损失函数、评估指标。\n",
    "4. 认识了Epoch与Batch Size这两个超参数。\n",
    "5. 完成了第一个神经网络模型的训练与评估。\n",
    "6. 成功保存了模型。\n",
    "\n",
    "千里之行始于足下，希望这个小小的项目能够为你今后的学习构建一个坚实的基础。\n",
    "\n",
    "在下一个项目中，你将会遇到如下技能挑战：\n",
    "\n",
    "- 搜集并处理中等规模数据：超过20万张图像。\n",
    "- 转换生成更加成熟的数据集存储方式：TFRecord文件。\n",
    "- 构建更加复杂的神经网络模型。\n",
    "- 学会如何保存训练进度。\n",
    "- 以图表的方式记录训练日志，跟踪训练进展。\n",
    "\n",
    "我们下期见！"
   ]
  },
  {
   "cell_type": "markdown",
   "metadata": {},
   "source": [
    "更多深度学习相关知识，请关注微信公众号“流浪AI”。\n",
    "\n",
    "![wechat](docs/wechat.png)"
   ]
  }
 ],
 "metadata": {
  "kernelspec": {
   "display_name": "Python 3",
   "language": "python",
   "name": "python3"
  },
  "language_info": {
   "codemirror_mode": {
    "name": "ipython",
    "version": 3
   },
   "file_extension": ".py",
   "mimetype": "text/x-python",
   "name": "python",
   "nbconvert_exporter": "python",
   "pygments_lexer": "ipython3",
   "version": "3.8.5"
  }
 },
 "nbformat": 4,
 "nbformat_minor": 4
}
